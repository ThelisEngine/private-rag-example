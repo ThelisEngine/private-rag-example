{
 "cells": [
  {
   "cell_type": "markdown",
   "metadata": {},
   "source": [
    "# Private RAG Application Implementation Using Llama 3.2, Ollama & PostgreSQL"
   ]
  },
  {
   "cell_type": "markdown",
   "metadata": {},
   "source": [
    "Install Psycopg\n",
    "\n",
    "```bash\n",
    "pip install \"psycopg[binary,pool]\"\n",
    "```"
   ]
  },
  {
   "cell_type": "code",
   "execution_count": 2,
   "metadata": {},
   "outputs": [],
   "source": [
    "import psycopg"
   ]
  },
  {
   "cell_type": "code",
   "execution_count": null,
   "metadata": {},
   "outputs": [],
   "source": [
    "DATABASE_HOST = ''  # IP address for Postgres database\n",
    "OLLAMA_HOST = ''  # Location of Ollama (http://host.docker.internal:11434 if using already existing ollama instance)"
   ]
  },
  {
   "cell_type": "markdown",
   "metadata": {},
   "source": [
    "## Dataset Preparation"
   ]
  },
  {
   "cell_type": "code",
   "execution_count": 56,
   "metadata": {},
   "outputs": [],
   "source": [
    "# the knowledge base\n",
    "dummy_data = [\n",
    "    {\"title\": \"Seoul Tower\", \"content\": \"Seoul Tower is a communication and observation tower located on Namsan Mountain in central Seoul, South Korea.\"},\n",
    "    {\"title\": \"Gwanghwamun Gate\", \"content\": \"Gwanghwamun is the main and largest gate of Gyeongbokgung Palace, in Jongno-gu, Seoul, South Korea.\"},\n",
    "    {\"title\": \"Bukchon Hanok Village\", \"content\": \"Bukchon Hanok Village is a Korean traditional village in Seoul with a long history.\"},\n",
    "    {\"title\": \"Myeong-dong Shopping Street\", \"content\": \"Myeong-dong is one of the primary shopping districts in Seoul, South Korea.\"},\n",
    "    {\"title\": \"Dongdaemun Design Plaza\", \"content\": \"The Dongdaemun Design Plaza is a major urban development landmark in Seoul, South Korea.\"}\n",
    "]"
   ]
  },
  {
   "cell_type": "markdown",
   "metadata": {},
   "source": [
    "## Connect to the database"
   ]
  },
  {
   "cell_type": "code",
   "execution_count": 4,
   "metadata": {},
   "outputs": [],
   "source": [
    "def connect_db():\n",
    "    return psycopg.connect( # use the credentials of your postgresql database \n",
    "        host = DATABASE_HOST,\n",
    "        dbname = 'postgres',\n",
    "        user = 'postgres',\n",
    "        password = 'password',\n",
    "        port = '5432'\n",
    "    )"
   ]
  },
  {
   "cell_type": "markdown",
   "metadata": {},
   "source": [
    "## Create the table"
   ]
  },
  {
   "cell_type": "code",
   "execution_count": 58,
   "metadata": {},
   "outputs": [],
   "source": [
    "conn = connect_db()\n",
    "cur = conn.execute(\"\"\"\n",
    "        CREATE TABLE IF NOT EXISTS documents (\n",
    "            id SERIAL PRIMARY KEY,\n",
    "            title TEXT,\n",
    "            content TEXT,\n",
    "            embedding VECTOR(768)\n",
    "        );\n",
    "    \"\"\")\n",
    "conn.commit()\n",
    "cur.close()\n",
    "conn.close()"
   ]
  },
  {
   "cell_type": "markdown",
   "metadata": {},
   "source": [
    "### Insert the data and embeddings into the database"
   ]
  },
  {
   "cell_type": "code",
   "execution_count": null,
   "metadata": {},
   "outputs": [],
   "source": [
    "conn = connect_db()\n",
    "cur = conn.cursor()\n",
    "\n",
    "# Use the port at which your Ollama service is running.\n",
    "for doc in dummy_data:\n",
    "    # Prepare the concatenated string in Python\n",
    "    concatenated_value = f\"{doc['title']} - {doc['content']}\"\n",
    "    \n",
    "    # Use the concatenated value directly in the SQL query with positional placeholders\n",
    "    cur.execute(\"\"\"\n",
    "        INSERT INTO documents (title, content, embedding)\n",
    "        VALUES (\n",
    "            %s,\n",
    "            %s,\n",
    "            ai.ollama_embed('nomic-embed-text', %s, host=>%s)\n",
    "        )\n",
    "    \"\"\", (doc['title'], doc['content'], concatenated_value, OLLAMA_HOST))\n",
    "\n",
    "conn.commit()\n",
    "cur.close()\n",
    "conn.close()\n",
    "\n"
   ]
  },
  {
   "cell_type": "markdown",
   "metadata": {},
   "source": [
    "Safechecking the insert information in the database."
   ]
  },
  {
   "cell_type": "code",
   "execution_count": 5,
   "metadata": {},
   "outputs": [
    {
     "name": "stdout",
     "output_type": "stream",
     "text": [
      "Title: Seoul Tower, Content: Seoul Tower is a communication and observation tower located on Namsan Mountain in central Seoul, South Korea., Embedding Dimensions: 768\n",
      "Title: Gwanghwamun Gate, Content: Gwanghwamun is the main and largest gate of Gyeongbokgung Palace, in Jongno-gu, Seoul, South Korea., Embedding Dimensions: 768\n",
      "Title: Bukchon Hanok Village, Content: Bukchon Hanok Village is a Korean traditional village in Seoul with a long history., Embedding Dimensions: 768\n",
      "Title: Myeong-dong Shopping Street, Content: Myeong-dong is one of the primary shopping districts in Seoul, South Korea., Embedding Dimensions: 768\n",
      "Title: Dongdaemun Design Plaza, Content: The Dongdaemun Design Plaza is a major urban development landmark in Seoul, South Korea., Embedding Dimensions: 768\n"
     ]
    }
   ],
   "source": [
    "conn = connect_db()\n",
    "cur = conn.cursor()\n",
    "    \n",
    "cur.execute(\"\"\"\n",
    "    SELECT title, content, vector_dims(embedding) \n",
    "    FROM documents;\n",
    "\"\"\")\n",
    "\n",
    "rows = cur.fetchall()\n",
    "for row in rows:\n",
    "    print(f\"Title: {row[0]}, Content: {row[1]}, Embedding Dimensions: {row[2]}\")\n",
    "\n",
    "cur.close()\n",
    "conn.close()"
   ]
  },
  {
   "cell_type": "markdown",
   "metadata": {},
   "source": [
    "## Retrieval and Generation"
   ]
  },
  {
   "cell_type": "markdown",
   "metadata": {},
   "source": [
    "### Define the query and its embedding"
   ]
  },
  {
   "cell_type": "code",
   "execution_count": 36,
   "metadata": {},
   "outputs": [],
   "source": [
    "query = \"Tell me about gates in South Korea.\""
   ]
  },
  {
   "cell_type": "code",
   "execution_count": null,
   "metadata": {},
   "outputs": [
    {
     "name": "stdout",
     "output_type": "stream",
     "text": [
      "Title: Gwanghwamun Gate\n",
      "Content: Gwanghwamun is the main and largest gate of Gyeongbokgung Palace, in Jongno-gu, Seoul, South Korea.\n",
      "\n",
      "Title: Dongdaemun Design Plaza\n",
      "Content: The Dongdaemun Design Plaza is a major urban development landmark in Seoul, South Korea.\n",
      "\n",
      "Title: Seoul Tower\n",
      "Content: Seoul Tower is a communication and observation tower located on Namsan Mountain in central Seoul, South Korea.\n"
     ]
    }
   ],
   "source": [
    "conn = connect_db()\n",
    "cur = conn.cursor()\n",
    "    \n",
    "# Embed the query using the ollama_embed function\n",
    "cur.execute(\"\"\"\n",
    "    SELECT ai.ollama_embed('nomic-embed-text', %s, host=>%s);\n",
    "\"\"\", (query,OLLAMA_HOST))\n",
    "query_embedding = cur.fetchone()[0]\n",
    "\n",
    "# Retrieve relevant documents based on cosine distance\n",
    "cur.execute(\"\"\"\n",
    "    SELECT title, content, 1 - (embedding <=> %s) AS similarity\n",
    "    FROM documents\n",
    "    ORDER BY similarity DESC\n",
    "    LIMIT 3;\n",
    "\"\"\", (query_embedding,))\n",
    "\n",
    "rows = cur.fetchall()\n",
    "    \n",
    "# Prepare the context for generating the response\n",
    "context = \"\\n\\n\".join([f\"Title: {row[0]}\\nContent: {row[1]}\" for row in rows])\n",
    "print(context)\n",
    "\n",
    "cur.close()\n",
    "conn.close()"
   ]
  },
  {
   "cell_type": "code",
   "execution_count": null,
   "metadata": {},
   "outputs": [
    {
     "name": "stdout",
     "output_type": "stream",
     "text": [
      "Gates in South Korea hold significant cultural and historical importance, particularly in the context of traditional palaces and monuments. Here's an overview of some notable gates in South Korea:\n",
      "\n",
      "1. **Gwanghwamun Gate**: Located within Gyeongbokgung Palace, Gwanghwamun is the main and largest gate of the palace complex in Jongno-gu, Seoul. The gate was built during the reign of King Jeonjo (1724-1776) and is a symbol of traditional Korean architecture.\n",
      "2. **Dongdaemun Gate**: Originally built as an entrance to Gyeongbokgung Palace, Dongdaemun Gate was renovated in 2011 to serve as the main gate of the Dongdaemun Design Plaza (DDP). The DDP is a major urban development landmark and a hub for fashion, design, and culture in Seoul.\n",
      "3. **Seoraksan Gate**: Located at the entrance of Seoraksan National Park, this gate marks the beginning of a popular hiking trail that leads to the park's scenic trails and stunning views.\n",
      "\n",
      "Gates in South Korea often serve as gateways to historical sites, cultural landmarks, or natural wonders. They can also be symbols of national identity, reflecting traditional Korean architecture and design elements.\n",
      "\n",
      "Seoul Tower, mentioned in your query, is not a traditional gate but rather a communication and observation tower located on Namsan Mountain in central Seoul. While it's an iconic landmark, it doesn't fit the definition of a traditional gate like Gwanghwamun or Dongdaemun.\n",
      "\n",
      "In South Korea, gates are often designed with specific architectural styles, such as hanok (traditional Korean houses) or Confucian temples, which showcase the country's rich cultural heritage. The gates also serve as entrance points to various sites and attractions, offering visitors a glimpse into Korea's history, art, and traditions.\n"
     ]
    }
   ],
   "source": [
    "conn = connect_db()\n",
    "cur = conn.cursor()\n",
    "\n",
    "# Generate the response using the ollama_generate function\n",
    "cur.execute(\"\"\"\n",
    "    SELECT ai.ollama_generate('llama3.2', %s, host=>%s);\n",
    "\"\"\", (f\"Query: {query}\\nContext: {context}\",OLLAMA_HOST))\n",
    "    \n",
    "model_response = cur.fetchone()[0]\n",
    "print(model_response['response'])\n",
    "    \n",
    "cur.close()\n",
    "conn.close()"
   ]
  }
 ],
 "metadata": {
  "kernelspec": {
   "display_name": "Python 3",
   "language": "python",
   "name": "python3"
  },
  "language_info": {
   "codemirror_mode": {
    "name": "ipython",
    "version": 3
   },
   "file_extension": ".py",
   "mimetype": "text/x-python",
   "name": "python",
   "nbconvert_exporter": "python",
   "pygments_lexer": "ipython3",
   "version": "3.13.0"
  }
 },
 "nbformat": 4,
 "nbformat_minor": 2
}
