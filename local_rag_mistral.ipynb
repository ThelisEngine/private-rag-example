{
 "cells": [
  {
   "cell_type": "markdown",
   "metadata": {},
   "source": [
    "# Build a Fully Local RAG Application With PostgreSQL, Mistral, and Ollama\n",
    "\n",
    "## Install & import libraries\n",
    "\n",
    "The required library `psycopg2` is imported to handle PostgreSQL database operations.\n"
   ]
  },
  {
   "cell_type": "code",
   "execution_count": null,
   "metadata": {},
   "outputs": [],
   "source": [
    "%pip install psycopg2-binary"
   ]
  },
  {
   "cell_type": "code",
   "execution_count": 12,
   "metadata": {},
   "outputs": [],
   "source": [
    "import psycopg2"
   ]
  },
  {
   "cell_type": "markdown",
   "metadata": {},
   "source": [
    "## Dataset Preparation\n",
    "\n",
    "In this tutorial, we will create dummy data of different locations with their description. "
   ]
  },
  {
   "cell_type": "code",
   "execution_count": 13,
   "metadata": {},
   "outputs": [],
   "source": [
    "# the knowledge base\n",
    "dummy_data = [\n",
    "    {\"title\": \"Seoul Tower\", \"content\": \"Seoul Tower is a communication and observation tower located on Namsan Mountain in central Seoul, South Korea.\"},\n",
    "    {\"title\": \"Gwanghwamun Gate\", \"content\": \"Gwanghwamun is the main and largest gate of Gyeongbokgung Palace, in Jongno-gu, Seoul, South Korea.\"},\n",
    "    {\"title\": \"Bukchon Hanok Village\", \"content\": \"Bukchon Hanok Village is a Korean traditional village in Seoul with a long history.\"},\n",
    "    {\"title\": \"Myeong-dong Shopping Street\", \"content\": \"Myeong-dong is one of the primary shopping districts in Seoul, South Korea.\"},\n",
    "    {\"title\": \"Dongdaemun Design Plaza\", \"content\": \"The Dongdaemun Design Plaza is a major urban development landmark in Seoul, South Korea.\"}\n",
    "]"
   ]
  },
  {
   "cell_type": "markdown",
   "metadata": {},
   "source": [
    "## Database connection component"
   ]
  },
  {
   "cell_type": "code",
   "execution_count": 14,
   "metadata": {},
   "outputs": [],
   "source": [
    "def connect_db():\n",
    "    return psycopg2.connect( \n",
    "        host = 'localhost',\n",
    "        database = 'postgres',\n",
    "        user = 'postgres',\n",
    "        password = 'password',\n",
    "        port = '5432' \n",
    "    )"
   ]
  },
  {
   "cell_type": "markdown",
   "metadata": {},
   "source": [
    "## Table creation component\n",
    "This component creates the documents table if it does not already exist. The table includes columns for `id`, `title`, `content`, and `embedding`. "
   ]
  },
  {
   "cell_type": "code",
   "execution_count": 19,
   "metadata": {},
   "outputs": [],
   "source": [
    "with connect_db() as conn:\n",
    "    with conn.cursor() as cur:\n",
    "        cur.execute(\"\"\"\n",
    "            CREATE TABLE IF NOT EXISTS documents (\n",
    "                id SERIAL PRIMARY KEY,\n",
    "                title TEXT,\n",
    "                content TEXT,\n",
    "                embedding VECTOR(768)\n",
    "            );\n",
    "        \"\"\")"
   ]
  },
  {
   "cell_type": "markdown",
   "metadata": {},
   "source": [
    "## Data insertion component\n",
    "This component inserts data into the documents table. It first inserts the title and content then updates the embedding field using the [`ollama_embed`](https://github.com/timescale/pgai/blob/main/docs/ollama.md#embed) function from pgai.\n"
   ]
  },
  {
   "cell_type": "code",
   "execution_count": 17,
   "metadata": {},
   "outputs": [],
   "source": [
    "with connect_db() as conn:\n",
    "    with conn.cursor() as cur:\n",
    "        for doc in dummy_data:\n",
    "            cur.execute(\"\"\"\n",
    "                INSERT INTO documents (title, content, embedding)\n",
    "                VALUES (\n",
    "                    %(title)s,\n",
    "                    %(content)s,\n",
    "                    ai.ollama_embed(\n",
    "                            'nomic-embed-text', \n",
    "                            concat(%(title)s, ' - ', %(content)s), \n",
    "                            host=>'http://ollama:11434'\n",
    "                    )\n",
    "                );\n",
    "            \"\"\", doc)"
   ]
  },
  {
   "cell_type": "markdown",
   "metadata": {},
   "source": [
    "Safechecking the insert information in the database."
   ]
  },
  {
   "cell_type": "code",
   "execution_count": 21,
   "metadata": {},
   "outputs": [
    {
     "name": "stdout",
     "output_type": "stream",
     "text": [
      "Title: Seoul Tower\n",
      "Content: Seoul Tower is a communication and observation tower located on Namsan Mountain in central Seoul, South Korea.\n",
      "Embedding: [-0.4333513,0.004673723,-3.42062,-0.28108785,0.5006557,0.25992024,0.7378622,-0.00095451507,0.100054085,-0.30185965,-1.1801497,0.625085,-0.018718235,0....\n",
      "\n",
      "\n",
      "Title: Gwanghwamun Gate\n",
      "Content: Gwanghwamun is the main and largest gate of Gyeongbokgung Palace, in Jongno-gu, Seoul, South Korea.\n",
      "Embedding: [-0.24228849,1.9167678,-3.500112,-0.50784695,-0.58251315,0.43372986,0.026797678,0.75811553,-0.0910073,-0.52477586,-0.2247471,1.1845706,-0.089577325,-0...\n",
      "\n",
      "\n",
      "Title: Bukchon Hanok Village\n",
      "Content: Bukchon Hanok Village is a Korean traditional village in Seoul with a long history.\n",
      "Embedding: [-0.722167,0.2099505,-3.6068847,-0.48492905,-0.61543924,-0.32833698,0.32197767,0.4255631,-0.40243146,-0.16431984,-0.9500727,-0.08775711,0.90623933,-0....\n",
      "\n",
      "\n",
      "Title: Myeong-dong Shopping Street\n",
      "Content: Myeong-dong is one of the primary shopping districts in Seoul, South Korea.\n",
      "Embedding: [-1.1704639,0.040751405,-3.7425742,-1.1444714,-1.3056045,-0.10902596,0.15948787,-0.065634064,1.0047789,-0.28047776,0.7945493,0.4865365,-0.025496976,-0...\n",
      "\n",
      "\n",
      "Title: Dongdaemun Design Plaza\n",
      "Content: The Dongdaemun Design Plaza is a major urban development landmark in Seoul, South Korea.\n",
      "Embedding: [-0.50673366,1.260803,-3.4413705,-0.29541552,-0.3417339,0.5342747,0.9512246,0.7027004,0.55283195,-1.1379108,0.07245929,-0.45044118,1.41539,-0.53444344...\n",
      "\n",
      "\n"
     ]
    }
   ],
   "source": [
    "with connect_db() as conn:\n",
    "    with conn.cursor() as cur:    \n",
    "        cur.execute(\"\"\"\n",
    "            SELECT title, content, embedding \n",
    "            FROM documents;\n",
    "        \"\"\")\n",
    "\n",
    "        rows = cur.fetchall()\n",
    "        for row in rows:\n",
    "            print(f\"Title: {row[0]}\\nContent: {row[1]}\\nEmbedding: {row[2][0:150]}...\\n\\n\")"
   ]
  },
  {
   "cell_type": "markdown",
   "metadata": {},
   "source": [
    "## Retrieve and generate response component\n",
    "\n",
    "This component takes a query, embeds it, retrieves the most relevant documents based on cosine similarity, and generates a response using the [`ollama_generate`](https://github.com/timescale/pgai/blob/main/docs/ollama.md#generate) function."
   ]
  },
  {
   "cell_type": "code",
   "execution_count": 22,
   "metadata": {},
   "outputs": [],
   "source": [
    "query = \"Tell me about landmarks in Seoul\""
   ]
  },
  {
   "cell_type": "code",
   "execution_count": 23,
   "metadata": {},
   "outputs": [
    {
     "name": "stdout",
     "output_type": "stream",
     "text": [
      "1. Dongdaemun Design Plaza (DDP): The Dongdaemun Design Plaza is a significant architectural landmark located in Seoul, South Korea. It serves as a hub for culture, arts, and shopping, with a distinctive design by renowned British architect, Norman Foster. This urban development project hosts various events throughout the year, making it a must-visit destination for tourists.\n",
      "\n",
      "2. Seoul Tower (Namsan Tower): The Seoul Tower is another iconic landmark in Seoul, situated atop Namsan Mountain in central Seoul. As both a communication and observation tower, visitors can enjoy panoramic views of the city from its observation deck. The tower is easily accessible through cable cars or hiking trails.\n",
      "\n",
      "3. Gwanghwamun Gate: Gwanghwamun Gate is the primary and largest gate of Gyeongbokgung Palace in Jongno-gu, Seoul, South Korea. Built during the Joseon Dynasty (1392 - 1910), it serves as a symbolic entrance to one of the Five Grand Palaces of Korea. Visitors can learn about Korea's rich history and culture through this impressive architectural masterpiece.\n",
      "\n",
      "These landmarks are essential for anyone who wants to explore the vibrant city of Seoul, South Korea, and gain insights into its rich history and modern development.\n"
     ]
    }
   ],
   "source": [
    "with connect_db() as conn:\n",
    "    with conn.cursor() as cur:\n",
    "        # Embed the query using the ollama_embed function\n",
    "        cur.execute(\"\"\"\n",
    "            SELECT ai.ollama_embed(\n",
    "                    'nomic-embed-text', \n",
    "                    %s, \n",
    "                    host=>'http://ollama:11434'\n",
    "            );\n",
    "        \"\"\", (query,))\n",
    "        query_embedding = cur.fetchone()[0]\n",
    "\n",
    "        # Retrieve relevant documents based on cosine distance\n",
    "        cur.execute(\"\"\"\n",
    "            SELECT title, content, 1 - (embedding <=> %s) AS similarity\n",
    "            FROM documents\n",
    "            ORDER BY similarity DESC\n",
    "            LIMIT 3;\n",
    "        \"\"\", (query_embedding,))\n",
    "\n",
    "        rows = cur.fetchall()\n",
    "            \n",
    "        # Prepare the context for generating the response\n",
    "        context = \"\\n\\n\".join([f\"Landmark: {row[0]}\\nDescription: {row[1]}\" for row in rows])\n",
    "\n",
    "        # Generate the response using the ollama_generate function\n",
    "        cur.execute(\"\"\"\n",
    "            SELECT ai.ollama_generate(\n",
    "                    'mistral', %s, \n",
    "                    host=>'http://ollama:11434'\n",
    "            );\n",
    "        \"\"\", (f\"Query: {query}\\nContext: {context}\",))\n",
    "        \n",
    "        model_response = cur.fetchone()[0]\n",
    "        print(model_response['response'])\n",
    "\n"
   ]
  }
 ],
 "metadata": {
  "kernelspec": {
   "display_name": "Python 3",
   "language": "python",
   "name": "python3"
  },
  "language_info": {
   "codemirror_mode": {
    "name": "ipython",
    "version": 3
   },
   "file_extension": ".py",
   "mimetype": "text/x-python",
   "name": "python",
   "nbconvert_exporter": "python",
   "pygments_lexer": "ipython3",
   "version": "3.9.6"
  }
 },
 "nbformat": 4,
 "nbformat_minor": 2
}
